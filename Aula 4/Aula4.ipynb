{
 "cells": [
  {
   "cell_type": "markdown",
   "source": [
    "# Desafio Obrigatório"
   ],
   "metadata": {
    "collapsed": false
   },
   "id": "ee7b209969f29d4a"
  },
  {
   "cell_type": "markdown",
   "source": [
    "## Criando um aalerta com notification.notify()"
   ],
   "metadata": {
    "collapsed": false
   },
   "id": "a36b050ba36fe332"
  },
  {
   "cell_type": "markdown",
   "source": [
    "### Descrição:\n",
    "Vamos utilizar a função notification.notify() para criar uma função de alerta de falha de carregamento de base de dados (isso será utilizado no projeto final)\n",
    "\n",
    "### Aspectos a incluir:\n",
    "O código a seguir gera uma janela de alerta: "
   ],
   "metadata": {
    "collapsed": false
   },
   "id": "d368441cf28f5577"
  },
  {
   "cell_type": "code",
   "execution_count": 3,
   "outputs": [],
   "source": [
    "from plyer import notification\n",
    "notification.notify(\n",
    "    title=\"Título da notificação\",\n",
    "    message=\"Mensagem da notificação\",\n",
    "    app_name=\"Nome do aplicativo\",\n",
    "    timeout=10\n",
    ")"
   ],
   "metadata": {
    "collapsed": false,
    "ExecuteTime": {
     "end_time": "2023-10-29T17:10:55.061172220Z",
     "start_time": "2023-10-29T17:10:53.824428266Z"
    }
   },
   "id": "ca06e36250ed99af"
  },
  {
   "cell_type": "markdown",
   "source": [
    "### A função precisa ter essa definição:\n",
    "\n",
    "def alerta(nivel, base, etapa):\n",
    "\n",
    "#### Sendo:\n",
    "Ao chamar a função deverá gerar uma janela de alerta;\n",
    "Exibir a mensagem \"Falha no carregamento da base {base} na etapa {etapa};\n",
    "Exibir a data atual;\n",
    "O título \"Alerta Baixo\" quando nivel=1, \"Alerta Médio\" quando nivel=2 e \"Alerta Alto\" quando nivel=3."
   ],
   "metadata": {
    "collapsed": false
   },
   "id": "25906d296afad1a"
  },
  {
   "cell_type": "code",
   "execution_count": 4,
   "outputs": [],
   "source": [
    "from plyer import notification\n",
    "from datetime import datetime\n",
    "\n",
    "def alerta(nivel, base, etapa):\n",
    "    if nivel == 1:\n",
    "        titulo = \"Alerta Baixo\"\n",
    "        call_notification(titulo, base, etapa)\n",
    "    \n",
    "    if nivel == 2:\n",
    "        titulo = \"Alerta Médio\"\n",
    "        call_notification(titulo, base, etapa)\n",
    "        \n",
    "    if nivel == 3:\n",
    "        titulo = \"Alerta Alto\"\n",
    "        call_notification(titulo, base, etapa)\n",
    "    \n",
    "    \n",
    "def call_notification(titulo, base, etapa):\n",
    "    now = datetime.now()\n",
    "    notification.notify(\n",
    "        title=titulo,\n",
    "        message=f\"Falha no carregamento da base {base} na etapa {etapa} \\n {now}\",\n",
    "        app_name=\"Nome do aplicativo\",\n",
    "        timeout=10\n",
    "    )"
   ],
   "metadata": {
    "collapsed": false,
    "ExecuteTime": {
     "end_time": "2023-10-29T17:23:50.219845162Z",
     "start_time": "2023-10-29T17:23:50.175778358Z"
    }
   },
   "id": "f8a60490f993ccb5"
  },
  {
   "cell_type": "code",
   "execution_count": 6,
   "outputs": [],
   "source": [
    "alerta(1, \"CLIENTE\", \"EXTRACAO\")"
   ],
   "metadata": {
    "collapsed": false,
    "ExecuteTime": {
     "end_time": "2023-10-29T17:32:50.291969190Z",
     "start_time": "2023-10-29T17:32:49.097961550Z"
    }
   },
   "id": "5459e4d6a120177a"
  },
  {
   "cell_type": "code",
   "execution_count": null,
   "outputs": [],
   "source": [],
   "metadata": {
    "collapsed": false
   },
   "id": "1fa93bc55957530d"
  }
 ],
 "metadata": {
  "kernelspec": {
   "display_name": "Python 3",
   "language": "python",
   "name": "python3"
  },
  "language_info": {
   "codemirror_mode": {
    "name": "ipython",
    "version": 2
   },
   "file_extension": ".py",
   "mimetype": "text/x-python",
   "name": "python",
   "nbconvert_exporter": "python",
   "pygments_lexer": "ipython2",
   "version": "2.7.6"
  }
 },
 "nbformat": 4,
 "nbformat_minor": 5
}
