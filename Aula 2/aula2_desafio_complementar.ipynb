{
 "cells": [
  {
   "cell_type": "markdown",
   "source": [
    "# Entrega - Desafio complementar"
   ],
   "metadata": {
    "collapsed": false
   },
   "id": "9aa2d842e5f7d7db"
  },
  {
   "cell_type": "markdown",
   "source": [
    "Desafio:\n",
    "1. Escreva um programa em Python que calcule o IMC (Índice de Massa Corporal) de uma pessoa. O programa deve solicitar ao usuário o peso em kg e a altura em metros e em seguida, calcula e imprimir o valor do IMC.\n",
    "2. Faça um programa que crie uma lista vazia e permita que o usuário insira 5 números inteiros na lista.\n",
    "3. Faça um programa que peça ao usuário para digitar uma lista de nomes separados por vírgula e transforme essa lista em uma lista de strings."
   ],
   "metadata": {
    "collapsed": false
   },
   "id": "c7549d35efa494f4"
  },
  {
   "cell_type": "markdown",
   "source": [
    "Desafio 1:\n",
    "Interpretação - O objetivo final é ter o valor do índice de massa corporal, para ter esse valor, é preciso passar doi parametros que são o peso e altura.\n",
    "Pensar/Planejar a solução - \n",
    "    1. Informar o que será feito com uma saída no terminal dizendo qual a proposta do programa.\n",
    "    2. Colocar uma saída no terminal pedindo que ele digite seu peso em kg.\n",
    "    3. Validar se esse dado é um valor númerico.\n",
    "    4. Armazenar esse dado em uma variavel.\n",
    "    5. Colocar uma saída no terminal pedindo que ele digite sua altura em metros.\n",
    "    6. Validar se esse dado é um valor númerico.\n",
    "    7. Armazenar esse dado em uma variavel.\n",
    "    8. Pegar as duas variáveis e fazer o calculo, sendo ele:\n",
    "        8.1. IMC = Peso / (Altura * Altura)\n",
    "    9. Fazer uma validação de qual a situação do seu IMC\n",
    "    10. Colocar uma saída pro usuário informando os dados que ele digitou, qual o resultado e situação"
   ],
   "metadata": {
    "collapsed": false
   },
   "id": "7a86d3617246cb37"
  },
  {
   "cell_type": "code",
   "execution_count": 22,
   "outputs": [
    {
     "name": "stdout",
     "output_type": "stream",
     "text": [
      "Olá, esse programa tem como proposta informalo seu IMC e sua situação, vamos começar!\n",
      "-==================================-\n",
      "Por favor, nos informe seu peso em \"kg\", exemplo: \n",
      "Casos seu peso seja 80kg, digite apenas o valor \"80\".\n",
      "-==================================-\n",
      "Por favor, nos informe sua altura em \"metros\", exemplo: \n",
      "Casos sua altura seja 1,80 metros, digite apenas o valor \"1.80\".\n",
      "-==================================-\n",
      "Seu IMC é 24.69 baseado no seu peso (80kg) e altura (1.80m). Com isso podemos dizer que sua situação é \"Peso normal\" \n"
     ]
    }
   ],
   "source": [
    "# Construção do código\n",
    "\n",
    "# apresentação do programa \n",
    "print(\"Olá, esse programa tem como proposta informalo seu IMC e sua situação, vamos começar!\")\n",
    "\n",
    "# Solicitação dos dados do usuário\n",
    "print(\"-==================================-\")\n",
    "print(\"Por favor, nos informe seu peso em \\\"kg\\\", exemplo: \")\n",
    "print(\"Casos seu peso seja 80kg, digite apenas o valor \\\"80\\\".\")\n",
    "\n",
    "loop = True\n",
    "while loop:\n",
    "    peso_user = input()\n",
    "    if peso_user.isdigit():\n",
    "        peso = float(peso_user)\n",
    "        loop = False\n",
    "    else:\n",
    "        print(\"Lembresse, o valor digitado deve ser apenas um número, conforme mostramos no exemplo.\")\n",
    "\n",
    "print(\"-==================================-\")\n",
    "print(\"Por favor, nos informe sua altura em \\\"metros\\\", exemplo: \")\n",
    "print(\"Casos sua altura seja 1,80 metros, digite apenas o valor \\\"1.80\\\".\")\n",
    "\n",
    "loop = True\n",
    "while loop:\n",
    "    altura_user = input()\n",
    "    altura_user = altura_user.replace(',','.')\n",
    "    if altura_user.replace('.','',1).isdigit():\n",
    "        altura = float(altura_user)\n",
    "        loop = False\n",
    "    else:\n",
    "        print(\"Lembresse, o valor digitado deve ser apenas um número, conforme mostramos no exemplo.\")\n",
    "    \n",
    "# Faz o cálculo do IMC\n",
    "IMC = peso / (altura * altura)\n",
    "\n",
    "# Valida a situação do IMC\n",
    "if IMC < 17:\n",
    "    situacao = \"Muito abaixo do peso\"\n",
    "elif 17 < IMC < 18.49:\n",
    "    situacao = \"Abaixo do peso\"\n",
    "elif 18.50 < IMC < 24.99:\n",
    "    situacao = \"Peso normal\"\n",
    "elif 25 < IMC < 29.99:\n",
    "    situacao = \"Acima do peso\"\n",
    "elif 30 < IMC < 34.99:\n",
    "    situacao = \"Obesidade I\"\n",
    "elif 35 < IMC < 39.99:\n",
    "    situacao = \"Obesidade II (severa)\"\n",
    "else:\n",
    "    situacao = \"Obesidade III (mórbida)\"\n",
    "\n",
    "# Informando o peso, altura, IMC e situação prot usuário\n",
    "print(\"-==================================-\")\n",
    "print(f\"Seu IMC é {IMC:.2f} baseado no seu peso ({peso_user}kg) e altura ({altura_user}m). Com isso podemos dizer que sua situação é \\\"{situacao}\\\" \")"
   ],
   "metadata": {
    "collapsed": false,
    "ExecuteTime": {
     "end_time": "2023-10-21T18:20:10.443125681Z",
     "start_time": "2023-10-21T18:20:05.910041077Z"
    }
   },
   "id": "24431ec26ab0e12d"
  },
  {
   "cell_type": "markdown",
   "source": [
    "Desafio 2:\n",
    "Interpretação - O usuário deve adicionar 5 números inteiros na lista, não podendo ser de outro tipo e não sendo maior que isso\n",
    "Pensar/Planejar a solução - \n",
    "    1. Suba uma variavel do tipo lista para armazenar os valores\n",
    "    2. Peça ao usuário digitar os números inteiros\n",
    "    3. O usuário deve repetir esse proceso até completar os cinco números\n",
    "    4. No final, deve ser impresso os 5 números"
   ],
   "metadata": {
    "collapsed": false
   },
   "id": "719d74b6c1968df2"
  },
  {
   "cell_type": "code",
   "execution_count": 24,
   "outputs": [
    {
     "name": "stdout",
     "output_type": "stream",
     "text": [
      "O programa foi criado para armazenar 5 números a sua escolha, então vamos lá.\n",
      "Digite 5 números para armazenarmos:\n",
      "-==================================-\n",
      "Número digitado foi 5\n",
      "Número digitado foi 4\n",
      "Número digitado foi 3\n",
      "Número digitado foi 2\n",
      "Número digitado foi 1\n",
      "Os números digitados foram: [5, 4, 3, 2, 1]\n"
     ]
    }
   ],
   "source": [
    "# Construção do código\n",
    "numeros = []\n",
    "\n",
    "# Interação com o usuário explicando pra ele o que o programa faz\n",
    "print(\"O programa foi criado para armazenar 5 números a sua escolha, então vamos lá.\")\n",
    "print(\"Digite 5 números para armazenarmos:\")\n",
    "print(\"-==================================-\")\n",
    "\n",
    "\n",
    "# Variavel de controle do loop\n",
    "cont = 0\n",
    "while cont < 5:\n",
    "    \n",
    "    # Interage com o usuário para pedir os números\n",
    "    numero_arm = input()\n",
    "    numero_arm = int(numero_arm)\n",
    "    print(f\"Número digitado foi {numero_arm}\")\n",
    "    \n",
    "    # Adiciona o número na variavel\n",
    "    numeros.append(numero_arm)\n",
    "    cont+= 1\n",
    "\n",
    "# Informa os números digitados\n",
    "print(f\"Os números digitados foram: {numeros}\")"
   ],
   "metadata": {
    "collapsed": false,
    "ExecuteTime": {
     "end_time": "2023-10-21T18:45:59.390560737Z",
     "start_time": "2023-10-21T18:45:55.061165367Z"
    }
   },
   "id": "cabf0abd520e518"
  },
  {
   "cell_type": "markdown",
   "source": [
    "Desafio 3:\n",
    "Interpretação - O usuário deve passar pro programa umas lista de nomes separados por virgula e esses nomes devem virar uma lista, sendo que não pode ser um único valor dentro da lista com vários nomes. \n",
    "Pensar/Planejar a solução - \n",
    "    1. Suba uma variavel do tipo lista para armazenar os valores\n",
    "    2. Peça ao usuário digitar os nomes separados por vinrgula\n",
    "    3. Armazene esses nomes como lista na variavel\n",
    "    4. No final, deve ser impresso os 5 nomes"
   ],
   "metadata": {
    "collapsed": false
   },
   "id": "d122af9a353d6547"
  },
  {
   "cell_type": "code",
   "execution_count": 33,
   "outputs": [
    {
     "name": "stdout",
     "output_type": "stream",
     "text": [
      "O programa foi criado para armazenar 5 nomes da sua escolha, então vamos lá.\n",
      "Digite 5 nomes para armazenarmos:\n",
      "-==================================-\n",
      "Por favor, nos informe os nomes conforme o exemplo (pode ou não conter sobrenomes): \n",
      "Nayeon, Roberto Carlos, Arthur, ITZY, Slipknot\n",
      "Nomes: ['Rafa', ' Rafa', ' Rafa', ' Rafa', ' Rafa Carvalho']\n"
     ]
    }
   ],
   "source": [
    "# Construção do código\n",
    "\n",
    "# Interação com o usuário explicando pra ele o que o programa faz\n",
    "print(\"O programa foi criado para armazenar 5 nomes da sua escolha, então vamos lá.\")\n",
    "print(\"Digite 5 nomes para armazenarmos:\")\n",
    "print(\"-==================================-\")\n",
    "print(\"Por favor, nos informe os nomes conforme o exemplo (pode ou não conter sobrenomes): \")\n",
    "print(\"Nayeon, Roberto Carlos, Arthur, ITZY, Slipknot\")\n",
    "\n",
    "# Variavel de controle do loop\n",
    "loop = True\n",
    "\n",
    "while loop == True:\n",
    "    # Pede os nomes ao usuário\n",
    "    nome_passado = input()\n",
    "    \n",
    "    # Separa os nomes\n",
    "    nomes_sep = nome_passado.split(',')\n",
    "    \n",
    "    # Valida se foi passado 5 números e trata a saída\n",
    "    if len(nomes_sep) != 5:\n",
    "        print(\"Você deve digitar 5 nomes, lembra? Da uma olhada no exemplo.\")\n",
    "        nomes_sep = []\n",
    "    else:\n",
    "        print(f\"Nomes: {nomes_sep}\")\n",
    "        loop = False\n"
   ],
   "metadata": {
    "collapsed": false,
    "ExecuteTime": {
     "end_time": "2023-10-21T19:04:27.848763082Z",
     "start_time": "2023-10-21T19:04:07.529779835Z"
    }
   },
   "id": "29b4cfe8ee74ba3d"
  },
  {
   "cell_type": "code",
   "execution_count": null,
   "outputs": [],
   "source": [],
   "metadata": {
    "collapsed": false
   },
   "id": "7efee2a767d1ae05"
  }
 ],
 "metadata": {
  "kernelspec": {
   "display_name": "Python 3",
   "language": "python",
   "name": "python3"
  },
  "language_info": {
   "codemirror_mode": {
    "name": "ipython",
    "version": 2
   },
   "file_extension": ".py",
   "mimetype": "text/x-python",
   "name": "python",
   "nbconvert_exporter": "python",
   "pygments_lexer": "ipython2",
   "version": "2.7.6"
  }
 },
 "nbformat": 4,
 "nbformat_minor": 5
}
