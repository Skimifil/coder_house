{
 "cells": [
  {
   "cell_type": "markdown",
   "source": [
    "# Atividade da aula 2"
   ],
   "metadata": {
    "collapsed": false
   },
   "id": "83331ce346c7c19f"
  },
  {
   "cell_type": "markdown",
   "source": [
    "### Crie uma variável chamada 'saldo' e atribua o valor de '950,60. Em seguida, pergunte ao usuário quanto dinheiro ele deseja sacar e armazene a resposta em uma variável chamada 'saque'. Subtraia o valor de saque do valor e imprima a mensagem \"Seu novo saldo é {saldo}\"."
   ],
   "metadata": {
    "collapsed": false
   },
   "id": "fe52cde108a230dd"
  },
  {
   "cell_type": "code",
   "execution_count": null,
   "outputs": [],
   "source": [
    "# Subida das informações iniciais da conta do usuário e informando ao mesmo seu saldo e quanto deseja sacar.\n",
    "saldo = 950.60\n",
    "print(f\"Você possui R${saldo:.2f} na sua conta.\")\n",
    "\n",
    "# Sobe a variável de controle do loop para tratar os dados e limitar o usuário\n",
    "loop = True\n",
    "while loop:\n",
    "    # Interação com o usuário pedindo o valor que ele deseja sacar.\n",
    "    saque = input(\"Qual valor você deseja sacar? \")\n",
    "    \n",
    "    # Valida o valor digitado pelo usuário\n",
    "    if saque:\n",
    "        # Substitui a vírgula por um ponto, se necessário\n",
    "        saque = saque.replace(',', '.')\n",
    "\n",
    "        # Verifica se o valor digitado é numérico\n",
    "        if saque.replace('.', '', 1).isdigit():\n",
    "            # Converte a entrada do usuário para um valor de ponto flutuante\n",
    "            saque = float(saque)\n",
    "            \n",
    "            # Verifica se o valor de saque é válido\n",
    "            if 0 <= saque <= saldo:\n",
    "                loop = False\n",
    "            else:\n",
    "                print(\"Valor de saque inválido. O valor deve ser maior que 0 e não exceda o saldo disponível.\")\n",
    "        else:\n",
    "            print(\"O valor digitado deve ser numérico para que possa ser feito o saque.\")\n",
    "    else:\n",
    "        print(\"O valor digitado deve ser numérico para que possa ser feito o saque.\")\n",
    "\n",
    "# Cálculo e mostragem para o usuário do seu novo saldo\n",
    "saldo = saldo - saque\n",
    "print(f\"Seu novo saldo é R${saldo:.2f}\")\n"
   ],
   "metadata": {
    "collapsed": false
   },
   "id": "1639178b1958b97d"
  },
  {
   "cell_type": "markdown",
   "source": [
    "### Faça um programa que crie uma lista com 5 frutas e permite que o usuário digite o nome de uma fruta. Se for uma fruta repetida, deverá ser desconsiderada."
   ],
   "metadata": {
    "collapsed": false
   },
   "id": "ae691fac3a95814a"
  },
  {
   "cell_type": "code",
   "execution_count": 8,
   "outputs": [
    {
     "name": "stdout",
     "output_type": "stream",
     "text": [
      "Temos uma lista de frutas, gotaria de acrescentar mais alguma?\n",
      "Fruta: maça\n",
      "Fruta: banana\n",
      "Fruta: melancia\n"
     ]
    }
   ],
   "source": [
    "# Subida da lista de frutas\n",
    "frutas = [\"maça\", \"banana\", \"melancia\", \"cereja\", \"laranja\"]\n",
    "\n",
    "# Interação com o usuário para pegar a fruta que ele quer adicionar\n",
    "print(\"Temos uma lista de frutas, gotaria de acrescentar mais alguma?\")\n",
    "fruta_digitada =input()\n",
    "\n",
    "# Valida se a fruta ja esta na lista, caso não, ela é adicionada na lista\n",
    "if fruta_digitada in frutas:\n",
    "    print(f\"A {fruta_digitada} ja esta na lista de frutas.\")\n",
    "else:\n",
    "    frutas.append(fruta_digitada)\n",
    "\n",
    "# Faz a saída dos valores da lista para o usuário\n",
    "for fr in frutas:\n",
    "    print(\"Fruta: \" + fr)\n"
   ],
   "metadata": {
    "collapsed": false,
    "ExecuteTime": {
     "end_time": "2023-10-20T00:03:25.974952201Z",
     "start_time": "2023-10-20T00:03:23.888924034Z"
    }
   },
   "id": "b0f375d0b45d5365"
  },
  {
   "cell_type": "markdown",
   "source": [
    "### Faça um programa que peça ao usuário para digitar uma frase e substitua todas as vogais por asteriscos (*)."
   ],
   "metadata": {
    "collapsed": false
   },
   "id": "b61c3de950cbaa76"
  },
  {
   "cell_type": "code",
   "execution_count": 14,
   "outputs": [
    {
     "name": "stdout",
     "output_type": "stream",
     "text": [
      "Vamos brincar de trocar vogais. Digite uma frase bonitinha: \n",
      "B* * m*n!\n"
     ]
    }
   ],
   "source": [
    "# Interação com o usuário\n",
    "print(\"Vamos brincar de trocar vogais. Digite uma frase bonitinha: \")\n",
    "frase = input()\n",
    "\n",
    "# Seta as opções de vogais que podem aparecer\n",
    "vogais = ['a', 'á', 'à', 'ã', 'â', 'A', 'Á', 'À', 'Ã', 'Â', 'e', 'é', 'è', 'ẽ', 'ê', 'E', 'É', 'È', 'Ẽ', 'Ê', 'i', 'í', 'ì', 'ĩ', 'î', 'I', 'Í', 'Ì', 'Ĩ', 'Î', 'o', 'ó', 'ò', 'õ', 'ô', 'O', 'Ó', 'Ò', 'Õ', 'Ô', 'u', 'ú', 'ù', 'ũ', 'û', 'U', 'Ú', 'Ù', 'Ũ', 'Û']\n",
    "\n",
    "\n",
    "# Adicionei o valor da 'frase' em 'frase_doida' para ela iterar nela mesma\n",
    "frase_doida = frase\n",
    "\n",
    "# Aqui é feito a troca das vogais pelo '*'\n",
    "for vogal in vogais:\n",
    "    frase_doida = frase_doida.replace(vogal, \"*\")\n",
    "\n",
    "# Faz a impressão da frase no final\n",
    "print(frase_doida)"
   ],
   "metadata": {
    "collapsed": false,
    "ExecuteTime": {
     "end_time": "2023-10-20T00:24:01.881543169Z",
     "start_time": "2023-10-20T00:23:56.267105552Z"
    }
   },
   "id": "da28b02ab1c7d9bf"
  },
  {
   "cell_type": "markdown",
   "source": [
    "# Entrega - Desafio complementar"
   ],
   "metadata": {
    "collapsed": false
   },
   "id": "eee65d50e0a71e2a"
  },
  {
   "cell_type": "markdown",
   "source": [
    "Descrção:"
   ],
   "metadata": {
    "collapsed": false
   },
   "id": "9499b712ad9c653f"
  }
 ],
 "metadata": {
  "kernelspec": {
   "display_name": "Python 3",
   "language": "python",
   "name": "python3"
  },
  "language_info": {
   "codemirror_mode": {
    "name": "ipython",
    "version": 2
   },
   "file_extension": ".py",
   "mimetype": "text/x-python",
   "name": "python",
   "nbconvert_exporter": "python",
   "pygments_lexer": "ipython2",
   "version": "2.7.6"
  }
 },
 "nbformat": 4,
 "nbformat_minor": 5
}
