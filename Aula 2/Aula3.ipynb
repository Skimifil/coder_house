{
 "cells": [
  {
   "cell_type": "markdown",
   "source": [
    "# Atividade em sala "
   ],
   "metadata": {
    "collapsed": false
   },
   "id": "5b9f83f6293e1dec"
  },
  {
   "cell_type": "markdown",
   "source": [
    "## Atividade:\n",
    "1. Escreva um programa que receba um número inteiro e exiba se ele é par ou impar\n",
    "2. Escreva um programa em Python que solicita ao usuário uma frase e, em seguida, exibe cada palavra e seu número de caracteres\n",
    "3. Crie um programa que solicita ao usuário uma senha numérica de 4 dígitos. O programa deve repetir essa solicitação até que o usuário informe a senha correta (1234)\n",
    "4. Escreva um programa que dado um valor n calcula o fatorial de n\n",
    "5. Crie um dicionário com os dados da tabela ao lado, crie um loop para exibir os valores\n",
    "| Mês | Quantidade |\n",
    "| Janeito | 232 |\n",
    "| Fevereiro | 321 |\n",
    "| Junho | 589 |\n",
    "| Julho | 547 |\n"
   ],
   "metadata": {
    "collapsed": false
   },
   "id": "22e21b5e2a702bfb"
  },
  {
   "cell_type": "code",
   "execution_count": 5,
   "outputs": [
    {
     "name": "stdout",
     "output_type": "stream",
     "text": [
      "Digite um valor númerico do tipo inteiro:\n",
      "-===============================-\n",
      "Você deve digitar um valor númerico inteiro.\n",
      "O valor 23 é impar\n"
     ]
    }
   ],
   "source": [
    "# Atividade 1\n",
    "print(\"Digite um valor númerico do tipo inteiro:\")\n",
    "print(\"-===============================-\")\n",
    "\n",
    "loop = True\n",
    "while loop:\n",
    "    value_user = input()\n",
    "    if value_user.isdigit() and int(value_user) % 2 == 0:\n",
    "        print(f\"O valor {value_user} é par\")\n",
    "        loop = False\n",
    "    elif value_user.isdigit() and int(value_user) % 2 != 0:\n",
    "        print(f\"O valor {value_user} é impar\")\n",
    "        loop = False\n",
    "    else:\n",
    "        print(\"Você deve digitar um valor númerico inteiro.\")\n"
   ],
   "metadata": {
    "collapsed": false,
    "ExecuteTime": {
     "end_time": "2023-10-25T00:20:18.094678286Z",
     "start_time": "2023-10-25T00:20:12.977004382Z"
    }
   },
   "id": "3e7c4813548e2a04"
  },
  {
   "cell_type": "code",
   "execution_count": 7,
   "outputs": [
    {
     "name": "stdout",
     "output_type": "stream",
     "text": [
      "Digite uma frase:\n",
      "-===============================-\n",
      "['Oi,', 'meu', 'nome', 'é', 'Rafael']\n",
      "A palavra Oi, tem 3 caracteres.\n",
      "A palavra meu tem 3 caracteres.\n",
      "A palavra nome tem 4 caracteres.\n",
      "A palavra é tem 1 caracteres.\n",
      "A palavra Rafael tem 6 caracteres.\n"
     ]
    }
   ],
   "source": [
    "#Atividade 2\n",
    "print(\"Digite uma frase:\")\n",
    "print(\"-===============================-\")\n",
    "\n",
    "frase = input()\n",
    "\n",
    "palavras = frase.split()\n",
    "print(palavras)\n",
    "\n",
    "for plv in palavras:\n",
    "    caracteres = len(plv)\n",
    "    print(f\"A palavra {plv} tem {caracteres} caracteres.\")"
   ],
   "metadata": {
    "collapsed": false,
    "ExecuteTime": {
     "end_time": "2023-10-25T00:25:40.470425294Z",
     "start_time": "2023-10-25T00:25:34.609093747Z"
    }
   },
   "id": "156398e010823378"
  },
  {
   "cell_type": "code",
   "execution_count": 10,
   "outputs": [
    {
     "name": "stdout",
     "output_type": "stream",
     "text": [
      "Seja um hacker adivinham e me diga qual é a senha:\n",
      "-===============================-\n",
      "Tente denovo\n",
      "Tente denovo\n",
      "Você acertou a senha!\n"
     ]
    }
   ],
   "source": [
    "# Atividade 3\n",
    "print(\"Seja um hacker adivinham e me diga qual é a senha:\")\n",
    "print(\"-===============================-\")\n",
    "\n",
    "while True:\n",
    "    adivinha = input(\"A senha que estou pensando é XXXX: \")\n",
    "    if int(adivinha) == 1234:\n",
    "        print(\"Você acertou a senha!\")\n",
    "        break\n",
    "    else:\n",
    "        print(\"Tente denovo\")"
   ],
   "metadata": {
    "collapsed": false,
    "ExecuteTime": {
     "end_time": "2023-10-25T00:31:00.058649011Z",
     "start_time": "2023-10-25T00:30:50.215933188Z"
    }
   },
   "id": "846fdb82bfed6956"
  },
  {
   "cell_type": "code",
   "execution_count": null,
   "outputs": [],
   "source": [
    "# Atividade 4\n",
    "\n",
    "valor = input(\"Escreva um número\")\n",
    "\n"
   ],
   "metadata": {
    "collapsed": false
   },
   "id": "81baa5e064b24893"
  }
 ],
 "metadata": {
  "kernelspec": {
   "display_name": "Python 3",
   "language": "python",
   "name": "python3"
  },
  "language_info": {
   "codemirror_mode": {
    "name": "ipython",
    "version": 2
   },
   "file_extension": ".py",
   "mimetype": "text/x-python",
   "name": "python",
   "nbconvert_exporter": "python",
   "pygments_lexer": "ipython2",
   "version": "2.7.6"
  }
 },
 "nbformat": 4,
 "nbformat_minor": 5
}
