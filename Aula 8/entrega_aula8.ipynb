{
 "cells": [
  {
   "cell_type": "markdown",
   "source": [
    "## Entrega da atividade da aula 8"
   ],
   "metadata": {
    "collapsed": false
   },
   "id": "bb9b5271920b8a16"
  },
  {
   "cell_type": "markdown",
   "source": [
    "# Desafio Nintendo"
   ],
   "metadata": {
    "collapsed": false
   },
   "id": "77b54d9fe77d920c"
  },
  {
   "cell_type": "code",
   "execution_count": 68,
   "outputs": [],
   "source": [
    "import pandas as pd"
   ],
   "metadata": {
    "collapsed": false,
    "ExecuteTime": {
     "end_time": "2023-11-21T01:09:43.621098246Z",
     "start_time": "2023-11-21T01:09:43.575304164Z"
    }
   },
   "id": "75e7f7a1a2d9dca"
  },
  {
   "cell_type": "markdown",
   "source": [
    "### Criar um dataframe com o arquivo best-selling_game_consoles.xlsx"
   ],
   "metadata": {
    "collapsed": false
   },
   "id": "dcbf4a0f3e11892d"
  },
  {
   "cell_type": "code",
   "execution_count": 69,
   "outputs": [
    {
     "data": {
      "text/plain": "      Console Name      Type   Company  Released Year  Discontinuation Year  \\\n0    PlayStation 2      Home      Sony           2000                  2013   \n1      Nintendo DS  Handheld  Nintendo           2004                  2013   \n2  Nintendo Switch    Hybrid  Nintendo           2017                     0   \n3         Game Boy  Handheld  Nintendo           1989                  2003   \n4   Game Boy Color  Handheld  Nintendo           1998                  2003   \n\n   Units sold (million)                                            Remarks  \n0                155.00           Final sales are greater than 155 million  \n1                154.02                                                NaN  \n2                122.55                                                NaN  \n3                 64.42  The Game Boy (1989) and the Game Boy Color (19...  \n4                 44.06                                                NaN  ",
      "text/html": "<div>\n<style scoped>\n    .dataframe tbody tr th:only-of-type {\n        vertical-align: middle;\n    }\n\n    .dataframe tbody tr th {\n        vertical-align: top;\n    }\n\n    .dataframe thead th {\n        text-align: right;\n    }\n</style>\n<table border=\"1\" class=\"dataframe\">\n  <thead>\n    <tr style=\"text-align: right;\">\n      <th></th>\n      <th>Console Name</th>\n      <th>Type</th>\n      <th>Company</th>\n      <th>Released Year</th>\n      <th>Discontinuation Year</th>\n      <th>Units sold (million)</th>\n      <th>Remarks</th>\n    </tr>\n  </thead>\n  <tbody>\n    <tr>\n      <th>0</th>\n      <td>PlayStation 2</td>\n      <td>Home</td>\n      <td>Sony</td>\n      <td>2000</td>\n      <td>2013</td>\n      <td>155.00</td>\n      <td>Final sales are greater than 155 million</td>\n    </tr>\n    <tr>\n      <th>1</th>\n      <td>Nintendo DS</td>\n      <td>Handheld</td>\n      <td>Nintendo</td>\n      <td>2004</td>\n      <td>2013</td>\n      <td>154.02</td>\n      <td>NaN</td>\n    </tr>\n    <tr>\n      <th>2</th>\n      <td>Nintendo Switch</td>\n      <td>Hybrid</td>\n      <td>Nintendo</td>\n      <td>2017</td>\n      <td>0</td>\n      <td>122.55</td>\n      <td>NaN</td>\n    </tr>\n    <tr>\n      <th>3</th>\n      <td>Game Boy</td>\n      <td>Handheld</td>\n      <td>Nintendo</td>\n      <td>1989</td>\n      <td>2003</td>\n      <td>64.42</td>\n      <td>The Game Boy (1989) and the Game Boy Color (19...</td>\n    </tr>\n    <tr>\n      <th>4</th>\n      <td>Game Boy Color</td>\n      <td>Handheld</td>\n      <td>Nintendo</td>\n      <td>1998</td>\n      <td>2003</td>\n      <td>44.06</td>\n      <td>NaN</td>\n    </tr>\n  </tbody>\n</table>\n</div>"
     },
     "execution_count": 69,
     "metadata": {},
     "output_type": "execute_result"
    }
   ],
   "source": [
    "dfnintendo = pd.read_excel(\"best-selling_game_consoles.xlsx\", sheet_name=\"consoles\")\n",
    "dfnintendo.head()"
   ],
   "metadata": {
    "collapsed": false,
    "ExecuteTime": {
     "end_time": "2023-11-21T01:09:46.060802408Z",
     "start_time": "2023-11-21T01:09:45.996200033Z"
    }
   },
   "id": "acbc75e88dd88c28"
  },
  {
   "cell_type": "markdown",
   "source": [
    "### Substituir a palabra \"NES\" por \"Nintendinho\" e colocar todos os nomes dos consoles em maiusculo."
   ],
   "metadata": {
    "collapsed": false
   },
   "id": "121a91fb2e42b88f"
  },
  {
   "cell_type": "code",
   "execution_count": 70,
   "outputs": [
    {
     "data": {
      "text/plain": "      Console Name      Type   Company  Released Year  Discontinuation Year  \\\n0    PLAYSTATION 2      Home      Sony           2000                  2013   \n1      NINTENDO DS  Handheld  Nintendo           2004                  2013   \n2  NINTENDO SWITCH    Hybrid  Nintendo           2017                     0   \n3         GAME BOY  Handheld  Nintendo           1989                  2003   \n4   GAME BOY COLOR  Handheld  Nintendo           1998                  2003   \n\n   Units sold (million)                                            Remarks  \n0                155.00           Final sales are greater than 155 million  \n1                154.02                                                NaN  \n2                122.55                                                NaN  \n3                 64.42  The Game Boy (1989) and the Game Boy Color (19...  \n4                 44.06                                                NaN  ",
      "text/html": "<div>\n<style scoped>\n    .dataframe tbody tr th:only-of-type {\n        vertical-align: middle;\n    }\n\n    .dataframe tbody tr th {\n        vertical-align: top;\n    }\n\n    .dataframe thead th {\n        text-align: right;\n    }\n</style>\n<table border=\"1\" class=\"dataframe\">\n  <thead>\n    <tr style=\"text-align: right;\">\n      <th></th>\n      <th>Console Name</th>\n      <th>Type</th>\n      <th>Company</th>\n      <th>Released Year</th>\n      <th>Discontinuation Year</th>\n      <th>Units sold (million)</th>\n      <th>Remarks</th>\n    </tr>\n  </thead>\n  <tbody>\n    <tr>\n      <th>0</th>\n      <td>PLAYSTATION 2</td>\n      <td>Home</td>\n      <td>Sony</td>\n      <td>2000</td>\n      <td>2013</td>\n      <td>155.00</td>\n      <td>Final sales are greater than 155 million</td>\n    </tr>\n    <tr>\n      <th>1</th>\n      <td>NINTENDO DS</td>\n      <td>Handheld</td>\n      <td>Nintendo</td>\n      <td>2004</td>\n      <td>2013</td>\n      <td>154.02</td>\n      <td>NaN</td>\n    </tr>\n    <tr>\n      <th>2</th>\n      <td>NINTENDO SWITCH</td>\n      <td>Hybrid</td>\n      <td>Nintendo</td>\n      <td>2017</td>\n      <td>0</td>\n      <td>122.55</td>\n      <td>NaN</td>\n    </tr>\n    <tr>\n      <th>3</th>\n      <td>GAME BOY</td>\n      <td>Handheld</td>\n      <td>Nintendo</td>\n      <td>1989</td>\n      <td>2003</td>\n      <td>64.42</td>\n      <td>The Game Boy (1989) and the Game Boy Color (19...</td>\n    </tr>\n    <tr>\n      <th>4</th>\n      <td>GAME BOY COLOR</td>\n      <td>Handheld</td>\n      <td>Nintendo</td>\n      <td>1998</td>\n      <td>2003</td>\n      <td>44.06</td>\n      <td>NaN</td>\n    </tr>\n  </tbody>\n</table>\n</div>"
     },
     "execution_count": 70,
     "metadata": {},
     "output_type": "execute_result"
    }
   ],
   "source": [
    "dfnintendo['Console Name'] = dfnintendo['Console Name'].replace('NES', 'Nintendinho')\n",
    "dfnintendo['Console Name'] = dfnintendo['Console Name'].str.upper()\n",
    "dfnintendo.head()"
   ],
   "metadata": {
    "collapsed": false,
    "ExecuteTime": {
     "end_time": "2023-11-21T01:09:47.507017479Z",
     "start_time": "2023-11-21T01:09:47.483388108Z"
    }
   },
   "id": "ca605affa954669f"
  },
  {
   "cell_type": "markdown",
   "source": [
    "### Mostre o nome dos consoles com data de release depois de 2010"
   ],
   "metadata": {
    "collapsed": false
   },
   "id": "4d47478ffccdff0d"
  },
  {
   "cell_type": "code",
   "execution_count": 71,
   "outputs": [
    {
     "data": {
      "text/plain": "                 Console Name       Type    Company  Released Year  \\\n2             NINTENDO SWITCH     Hybrid   Nintendo           2017   \n5               PLAYSTATION 4       Home       Sony           2013   \n12               NINTENDO 3DS   Handheld   Nintendo           2011   \n14                   XBOX ONE       Home  Microsoft           2013   \n19              PLAYSTATION 5       Home       Sony           2020   \n23            XBOX SERIES X/S       Home  Microsoft           2020   \n24                      WII U       Home   Nintendo           2012   \n25           PLAYSTATION VITA   Handheld       Sony           2011   \n33  SUPER NES CLASSIC EDITION  Dedicated   Nintendo           2017   \n35        NES CLASSIC EDITION  Dedicated   Nintendo           2016   \n\n    Discontinuation Year  Units sold (million)  \\\n2                      0                122.55   \n5                      0                117.20   \n12                  2020                 75.94   \n14                  2020                 58.50   \n19                     0                 30.00   \n23                     0                 18.50   \n24                  2017                 13.56   \n25                  2019                 15.00   \n33                  2018                  5.28   \n35                  2018                  3.56   \n\n                              Remarks  \n2                                 NaN  \n5                                 NaN  \n12                                NaN  \n14  Estimated between 51-58.5 million  \n19                                NaN  \n23  Approximately around 18.5 million  \n24                                NaN  \n25    Estimated between 10-15 million  \n33                                NaN  \n35                                NaN  ",
      "text/html": "<div>\n<style scoped>\n    .dataframe tbody tr th:only-of-type {\n        vertical-align: middle;\n    }\n\n    .dataframe tbody tr th {\n        vertical-align: top;\n    }\n\n    .dataframe thead th {\n        text-align: right;\n    }\n</style>\n<table border=\"1\" class=\"dataframe\">\n  <thead>\n    <tr style=\"text-align: right;\">\n      <th></th>\n      <th>Console Name</th>\n      <th>Type</th>\n      <th>Company</th>\n      <th>Released Year</th>\n      <th>Discontinuation Year</th>\n      <th>Units sold (million)</th>\n      <th>Remarks</th>\n    </tr>\n  </thead>\n  <tbody>\n    <tr>\n      <th>2</th>\n      <td>NINTENDO SWITCH</td>\n      <td>Hybrid</td>\n      <td>Nintendo</td>\n      <td>2017</td>\n      <td>0</td>\n      <td>122.55</td>\n      <td>NaN</td>\n    </tr>\n    <tr>\n      <th>5</th>\n      <td>PLAYSTATION 4</td>\n      <td>Home</td>\n      <td>Sony</td>\n      <td>2013</td>\n      <td>0</td>\n      <td>117.20</td>\n      <td>NaN</td>\n    </tr>\n    <tr>\n      <th>12</th>\n      <td>NINTENDO 3DS</td>\n      <td>Handheld</td>\n      <td>Nintendo</td>\n      <td>2011</td>\n      <td>2020</td>\n      <td>75.94</td>\n      <td>NaN</td>\n    </tr>\n    <tr>\n      <th>14</th>\n      <td>XBOX ONE</td>\n      <td>Home</td>\n      <td>Microsoft</td>\n      <td>2013</td>\n      <td>2020</td>\n      <td>58.50</td>\n      <td>Estimated between 51-58.5 million</td>\n    </tr>\n    <tr>\n      <th>19</th>\n      <td>PLAYSTATION 5</td>\n      <td>Home</td>\n      <td>Sony</td>\n      <td>2020</td>\n      <td>0</td>\n      <td>30.00</td>\n      <td>NaN</td>\n    </tr>\n    <tr>\n      <th>23</th>\n      <td>XBOX SERIES X/S</td>\n      <td>Home</td>\n      <td>Microsoft</td>\n      <td>2020</td>\n      <td>0</td>\n      <td>18.50</td>\n      <td>Approximately around 18.5 million</td>\n    </tr>\n    <tr>\n      <th>24</th>\n      <td>WII U</td>\n      <td>Home</td>\n      <td>Nintendo</td>\n      <td>2012</td>\n      <td>2017</td>\n      <td>13.56</td>\n      <td>NaN</td>\n    </tr>\n    <tr>\n      <th>25</th>\n      <td>PLAYSTATION VITA</td>\n      <td>Handheld</td>\n      <td>Sony</td>\n      <td>2011</td>\n      <td>2019</td>\n      <td>15.00</td>\n      <td>Estimated between 10-15 million</td>\n    </tr>\n    <tr>\n      <th>33</th>\n      <td>SUPER NES CLASSIC EDITION</td>\n      <td>Dedicated</td>\n      <td>Nintendo</td>\n      <td>2017</td>\n      <td>2018</td>\n      <td>5.28</td>\n      <td>NaN</td>\n    </tr>\n    <tr>\n      <th>35</th>\n      <td>NES CLASSIC EDITION</td>\n      <td>Dedicated</td>\n      <td>Nintendo</td>\n      <td>2016</td>\n      <td>2018</td>\n      <td>3.56</td>\n      <td>NaN</td>\n    </tr>\n  </tbody>\n</table>\n</div>"
     },
     "execution_count": 71,
     "metadata": {},
     "output_type": "execute_result"
    }
   ],
   "source": [
    "filtro = dfnintendo['Released Year'] > 2010\n",
    "dfnintendo_filtrado = dfnintendo[filtro]\n",
    "dfnintendo_filtrado"
   ],
   "metadata": {
    "collapsed": false,
    "ExecuteTime": {
     "end_time": "2023-11-21T01:09:49.304174129Z",
     "start_time": "2023-11-21T01:09:49.275147480Z"
    }
   },
   "id": "c4b3d71ac9cad618"
  },
  {
   "cell_type": "markdown",
   "source": [
    "### De um describe e um info na base, substitua os missing values por \"missing\""
   ],
   "metadata": {
    "collapsed": false
   },
   "id": "85c1daf01e875216"
  },
  {
   "cell_type": "code",
   "execution_count": 72,
   "outputs": [
    {
     "name": "stdout",
     "output_type": "stream",
     "text": [
      "<class 'pandas.core.frame.DataFrame'>\n",
      "Index: 10 entries, 2 to 35\n",
      "Data columns (total 7 columns):\n",
      " #   Column                Non-Null Count  Dtype  \n",
      "---  ------                --------------  -----  \n",
      " 0   Console Name          10 non-null     object \n",
      " 1   Type                  10 non-null     object \n",
      " 2   Company               10 non-null     object \n",
      " 3   Released Year         10 non-null     int64  \n",
      " 4   Discontinuation Year  10 non-null     int64  \n",
      " 5   Units sold (million)  10 non-null     float64\n",
      " 6   Remarks               3 non-null      object \n",
      "dtypes: float64(1), int64(2), object(4)\n",
      "memory usage: 640.0+ bytes\n"
     ]
    }
   ],
   "source": [
    "dfnintendo_filtrado.info()"
   ],
   "metadata": {
    "collapsed": false,
    "ExecuteTime": {
     "end_time": "2023-11-21T01:09:51.187236422Z",
     "start_time": "2023-11-21T01:09:51.167320890Z"
    }
   },
   "id": "a06baaf38c388842"
  },
  {
   "cell_type": "code",
   "execution_count": 73,
   "outputs": [
    {
     "data": {
      "text/plain": "       Released Year  Discontinuation Year  Units sold (million)\ncount      10.000000             10.000000             10.000000\nmean     2015.000000           1211.200000             46.009000\nstd         3.464102           1042.435375             45.297622\nmin      2011.000000              0.000000              3.560000\n25%      2012.250000              0.000000             13.920000\n50%      2014.500000           2017.500000             24.250000\n75%      2017.000000           2018.750000             71.580000\nmax      2020.000000           2020.000000            122.550000",
      "text/html": "<div>\n<style scoped>\n    .dataframe tbody tr th:only-of-type {\n        vertical-align: middle;\n    }\n\n    .dataframe tbody tr th {\n        vertical-align: top;\n    }\n\n    .dataframe thead th {\n        text-align: right;\n    }\n</style>\n<table border=\"1\" class=\"dataframe\">\n  <thead>\n    <tr style=\"text-align: right;\">\n      <th></th>\n      <th>Released Year</th>\n      <th>Discontinuation Year</th>\n      <th>Units sold (million)</th>\n    </tr>\n  </thead>\n  <tbody>\n    <tr>\n      <th>count</th>\n      <td>10.000000</td>\n      <td>10.000000</td>\n      <td>10.000000</td>\n    </tr>\n    <tr>\n      <th>mean</th>\n      <td>2015.000000</td>\n      <td>1211.200000</td>\n      <td>46.009000</td>\n    </tr>\n    <tr>\n      <th>std</th>\n      <td>3.464102</td>\n      <td>1042.435375</td>\n      <td>45.297622</td>\n    </tr>\n    <tr>\n      <th>min</th>\n      <td>2011.000000</td>\n      <td>0.000000</td>\n      <td>3.560000</td>\n    </tr>\n    <tr>\n      <th>25%</th>\n      <td>2012.250000</td>\n      <td>0.000000</td>\n      <td>13.920000</td>\n    </tr>\n    <tr>\n      <th>50%</th>\n      <td>2014.500000</td>\n      <td>2017.500000</td>\n      <td>24.250000</td>\n    </tr>\n    <tr>\n      <th>75%</th>\n      <td>2017.000000</td>\n      <td>2018.750000</td>\n      <td>71.580000</td>\n    </tr>\n    <tr>\n      <th>max</th>\n      <td>2020.000000</td>\n      <td>2020.000000</td>\n      <td>122.550000</td>\n    </tr>\n  </tbody>\n</table>\n</div>"
     },
     "execution_count": 73,
     "metadata": {},
     "output_type": "execute_result"
    }
   ],
   "source": [
    "dfnintendo_filtrado.describe()"
   ],
   "metadata": {
    "collapsed": false,
    "ExecuteTime": {
     "end_time": "2023-11-21T01:09:51.836116200Z",
     "start_time": "2023-11-21T01:09:51.803809617Z"
    }
   },
   "id": "e212d858ee7fc32a"
  },
  {
   "cell_type": "code",
   "execution_count": 74,
   "outputs": [
    {
     "data": {
      "text/plain": "                 Console Name       Type    Company  Released Year  \\\n2             NINTENDO SWITCH     Hybrid   Nintendo           2017   \n5               PLAYSTATION 4       Home       Sony           2013   \n12               NINTENDO 3DS   Handheld   Nintendo           2011   \n14                   XBOX ONE       Home  Microsoft           2013   \n19              PLAYSTATION 5       Home       Sony           2020   \n23            XBOX SERIES X/S       Home  Microsoft           2020   \n24                      WII U       Home   Nintendo           2012   \n25           PLAYSTATION VITA   Handheld       Sony           2011   \n33  SUPER NES CLASSIC EDITION  Dedicated   Nintendo           2017   \n35        NES CLASSIC EDITION  Dedicated   Nintendo           2016   \n\n    Discontinuation Year  Units sold (million)  \\\n2                      0                122.55   \n5                      0                117.20   \n12                  2020                 75.94   \n14                  2020                 58.50   \n19                     0                 30.00   \n23                     0                 18.50   \n24                  2017                 13.56   \n25                  2019                 15.00   \n33                  2018                  5.28   \n35                  2018                  3.56   \n\n                              Remarks  \n2                             missing  \n5                             missing  \n12                            missing  \n14  Estimated between 51-58.5 million  \n19                            missing  \n23  Approximately around 18.5 million  \n24                            missing  \n25    Estimated between 10-15 million  \n33                            missing  \n35                            missing  ",
      "text/html": "<div>\n<style scoped>\n    .dataframe tbody tr th:only-of-type {\n        vertical-align: middle;\n    }\n\n    .dataframe tbody tr th {\n        vertical-align: top;\n    }\n\n    .dataframe thead th {\n        text-align: right;\n    }\n</style>\n<table border=\"1\" class=\"dataframe\">\n  <thead>\n    <tr style=\"text-align: right;\">\n      <th></th>\n      <th>Console Name</th>\n      <th>Type</th>\n      <th>Company</th>\n      <th>Released Year</th>\n      <th>Discontinuation Year</th>\n      <th>Units sold (million)</th>\n      <th>Remarks</th>\n    </tr>\n  </thead>\n  <tbody>\n    <tr>\n      <th>2</th>\n      <td>NINTENDO SWITCH</td>\n      <td>Hybrid</td>\n      <td>Nintendo</td>\n      <td>2017</td>\n      <td>0</td>\n      <td>122.55</td>\n      <td>missing</td>\n    </tr>\n    <tr>\n      <th>5</th>\n      <td>PLAYSTATION 4</td>\n      <td>Home</td>\n      <td>Sony</td>\n      <td>2013</td>\n      <td>0</td>\n      <td>117.20</td>\n      <td>missing</td>\n    </tr>\n    <tr>\n      <th>12</th>\n      <td>NINTENDO 3DS</td>\n      <td>Handheld</td>\n      <td>Nintendo</td>\n      <td>2011</td>\n      <td>2020</td>\n      <td>75.94</td>\n      <td>missing</td>\n    </tr>\n    <tr>\n      <th>14</th>\n      <td>XBOX ONE</td>\n      <td>Home</td>\n      <td>Microsoft</td>\n      <td>2013</td>\n      <td>2020</td>\n      <td>58.50</td>\n      <td>Estimated between 51-58.5 million</td>\n    </tr>\n    <tr>\n      <th>19</th>\n      <td>PLAYSTATION 5</td>\n      <td>Home</td>\n      <td>Sony</td>\n      <td>2020</td>\n      <td>0</td>\n      <td>30.00</td>\n      <td>missing</td>\n    </tr>\n    <tr>\n      <th>23</th>\n      <td>XBOX SERIES X/S</td>\n      <td>Home</td>\n      <td>Microsoft</td>\n      <td>2020</td>\n      <td>0</td>\n      <td>18.50</td>\n      <td>Approximately around 18.5 million</td>\n    </tr>\n    <tr>\n      <th>24</th>\n      <td>WII U</td>\n      <td>Home</td>\n      <td>Nintendo</td>\n      <td>2012</td>\n      <td>2017</td>\n      <td>13.56</td>\n      <td>missing</td>\n    </tr>\n    <tr>\n      <th>25</th>\n      <td>PLAYSTATION VITA</td>\n      <td>Handheld</td>\n      <td>Sony</td>\n      <td>2011</td>\n      <td>2019</td>\n      <td>15.00</td>\n      <td>Estimated between 10-15 million</td>\n    </tr>\n    <tr>\n      <th>33</th>\n      <td>SUPER NES CLASSIC EDITION</td>\n      <td>Dedicated</td>\n      <td>Nintendo</td>\n      <td>2017</td>\n      <td>2018</td>\n      <td>5.28</td>\n      <td>missing</td>\n    </tr>\n    <tr>\n      <th>35</th>\n      <td>NES CLASSIC EDITION</td>\n      <td>Dedicated</td>\n      <td>Nintendo</td>\n      <td>2016</td>\n      <td>2018</td>\n      <td>3.56</td>\n      <td>missing</td>\n    </tr>\n  </tbody>\n</table>\n</div>"
     },
     "execution_count": 74,
     "metadata": {},
     "output_type": "execute_result"
    }
   ],
   "source": [
    "dfnintendo_filtrado = dfnintendo_filtrado.fillna('missing')\n",
    "dfnintendo_filtrado"
   ],
   "metadata": {
    "collapsed": false,
    "ExecuteTime": {
     "end_time": "2023-11-21T01:09:53.815698777Z",
     "start_time": "2023-11-21T01:09:53.778310231Z"
    }
   },
   "id": "cadb4e2ba823774c"
  },
  {
   "cell_type": "markdown",
   "source": [
    "### Filtre os consoles que foram descontinuados a menos de 2 anos da data de release"
   ],
   "metadata": {
    "collapsed": false
   },
   "id": "f1bda116e29d8649"
  },
  {
   "cell_type": "code",
   "execution_count": 75,
   "outputs": [],
   "source": [
    "consoles_descontinuados = dfnintendo_filtrado[dfnintendo_filtrado['Discontinuation Year'].astype(int) - dfnintendo_filtrado['Released Year'].astype(int) < 2]\n"
   ],
   "metadata": {
    "collapsed": false,
    "ExecuteTime": {
     "end_time": "2023-11-21T01:09:56.686084872Z",
     "start_time": "2023-11-21T01:09:56.678625842Z"
    }
   },
   "id": "6c84a211b1dfd363"
  },
  {
   "cell_type": "code",
   "execution_count": 76,
   "outputs": [],
   "source": [
    "consoles_descontinuados_2_anos = consoles_descontinuados[consoles_descontinuados['Discontinuation Year'].astype(int) != 0]"
   ],
   "metadata": {
    "collapsed": false,
    "ExecuteTime": {
     "end_time": "2023-11-21T01:09:57.710119447Z",
     "start_time": "2023-11-21T01:09:57.703208860Z"
    }
   },
   "id": "6736d326e38fd086"
  },
  {
   "cell_type": "code",
   "execution_count": 77,
   "outputs": [
    {
     "data": {
      "text/plain": "                 Console Name       Type   Company  Released Year  \\\n33  SUPER NES CLASSIC EDITION  Dedicated  Nintendo           2017   \n\n    Discontinuation Year  Units sold (million)  Remarks  \n33                  2018                  5.28  missing  ",
      "text/html": "<div>\n<style scoped>\n    .dataframe tbody tr th:only-of-type {\n        vertical-align: middle;\n    }\n\n    .dataframe tbody tr th {\n        vertical-align: top;\n    }\n\n    .dataframe thead th {\n        text-align: right;\n    }\n</style>\n<table border=\"1\" class=\"dataframe\">\n  <thead>\n    <tr style=\"text-align: right;\">\n      <th></th>\n      <th>Console Name</th>\n      <th>Type</th>\n      <th>Company</th>\n      <th>Released Year</th>\n      <th>Discontinuation Year</th>\n      <th>Units sold (million)</th>\n      <th>Remarks</th>\n    </tr>\n  </thead>\n  <tbody>\n    <tr>\n      <th>33</th>\n      <td>SUPER NES CLASSIC EDITION</td>\n      <td>Dedicated</td>\n      <td>Nintendo</td>\n      <td>2017</td>\n      <td>2018</td>\n      <td>5.28</td>\n      <td>missing</td>\n    </tr>\n  </tbody>\n</table>\n</div>"
     },
     "execution_count": 77,
     "metadata": {},
     "output_type": "execute_result"
    }
   ],
   "source": [
    "consoles_descontinuados_2_anos"
   ],
   "metadata": {
    "collapsed": false,
    "ExecuteTime": {
     "end_time": "2023-11-21T01:09:58.727121954Z",
     "start_time": "2023-11-21T01:09:58.701722218Z"
    }
   },
   "id": "da4d705a483d3da"
  },
  {
   "cell_type": "code",
   "execution_count": null,
   "outputs": [],
   "source": [],
   "metadata": {
    "collapsed": false
   },
   "id": "708fc994ed7aeaaf"
  }
 ],
 "metadata": {
  "kernelspec": {
   "display_name": "Python 3",
   "language": "python",
   "name": "python3"
  },
  "language_info": {
   "codemirror_mode": {
    "name": "ipython",
    "version": 2
   },
   "file_extension": ".py",
   "mimetype": "text/x-python",
   "name": "python",
   "nbconvert_exporter": "python",
   "pygments_lexer": "ipython2",
   "version": "2.7.6"
  }
 },
 "nbformat": 4,
 "nbformat_minor": 5
}
